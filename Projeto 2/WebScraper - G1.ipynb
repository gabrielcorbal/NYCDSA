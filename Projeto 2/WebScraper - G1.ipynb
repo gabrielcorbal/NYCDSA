{
 "cells": [
  {
   "cell_type": "markdown",
   "metadata": {},
   "source": [
    "# Selenium Webscraper - G1"
   ]
  },
  {
   "cell_type": "markdown",
   "metadata": {},
   "source": [
    "This project aims to build a webscraper.\n",
    "The website chosen was G1, the most famous jornalism group in Brazil. \n",
    "This tool aims to create a database of all news posted related to certain topic, filtered by months.\n",
    "The final output is a CSV file containing the title of the news, the description and the posted date.\n",
    "\n",
    "The topic chosen to build the visualization and the webscrapper was \"Protests\" around the world."
   ]
  },
  {
   "cell_type": "markdown",
   "metadata": {},
   "source": [
    "### Libraries"
   ]
  },
  {
   "cell_type": "code",
   "execution_count": null,
   "metadata": {},
   "outputs": [],
   "source": [
    "!pip install selenium"
   ]
  },
  {
   "cell_type": "code",
   "execution_count": null,
   "metadata": {},
   "outputs": [],
   "source": [
    "import csv\n",
    "from selenium import webdriver"
   ]
  },
  {
   "cell_type": "markdown",
   "metadata": {},
   "source": [
    "### Creating CSV file"
   ]
  },
  {
   "cell_type": "code",
   "execution_count": null,
   "metadata": {},
   "outputs": [],
   "source": [
    "with open('project2.csv', 'w') as f:\n",
    "    f.write(\"Titulo;Descri;Dia \\n\")"
   ]
  },
  {
   "cell_type": "markdown",
   "metadata": {},
   "source": [
    "### Selecting months to go through\n",
    "01/2017 ~ 21/2019"
   ]
  },
  {
   "cell_type": "code",
   "execution_count": null,
   "metadata": {},
   "outputs": [],
   "source": [
    "jan17 = ['2017-01-01','2017-01-31']\n",
    "fev17 = ['2017-02-01','2017-02-28']\n",
    "mar17 = ['2017-03-01','2017-03-31']\n",
    "abr17 = ['2017-04-01','2017-04-30']\n",
    "mai17 = ['2017-05-01','2017-05-31']\n",
    "jun17 = ['2017-06-01','2017-06-30']\n",
    "jul17 = ['2017-07-01','2017-07-31']\n",
    "ago17 = ['2017-08-01','2017-08-31']\n",
    "set17 = ['2017-09-01','2017-09-30']\n",
    "out17 = ['2017-10-01','2017-10-31']\n",
    "nov17 = ['2017-11-01','2017-11-30']\n",
    "dez17 = ['2017-12-01','2017-12-31']\n",
    "\n",
    "jan18 = ['2018-01-01','2018-01-31']\n",
    "fev18 = ['2018-02-01','2018-02-28']\n",
    "mar18 = ['2018-03-01','2018-03-31']\n",
    "abr18 = ['2018-04-01','2018-04-30']\n",
    "mai18 = ['2018-05-01','2018-05-31']\n",
    "jun18 = ['2018-06-01','2018-06-30']\n",
    "jul18 = ['2018-07-01','2018-07-31']\n",
    "ago18 = ['2018-08-01','2018-08-31']\n",
    "set18 = ['2018-09-01','2018-09-30']\n",
    "out18 = ['2018-10-01','2018-10-31']\n",
    "nov18 = ['2018-11-01','2018-11-30']\n",
    "dez18 = ['2018-12-01','2018-12-31']\n",
    "\n",
    "\n",
    "jan19 = ['2019-01-01','2019-01-31']\n",
    "fev19 = ['2019-02-01','2019-02-28']\n",
    "mar19 = ['2019-03-01','2019-03-31']\n",
    "abr19 = ['2019-04-01','2019-04-30']\n",
    "mai19 = ['2019-05-01','2019-05-31']\n",
    "jun19 = ['2019-06-01','2019-06-30']\n",
    "jul19 = ['2019-07-01','2019-07-31']\n",
    "ago19 = ['2019-08-01','2019-08-31']\n",
    "set19 = ['2019-09-01','2019-09-30']\n",
    "out19 = ['2019-10-01','2019-10-21']"
   ]
  },
  {
   "cell_type": "markdown",
   "metadata": {},
   "source": [
    "### Consolidating months"
   ]
  },
  {
   "cell_type": "code",
   "execution_count": null,
   "metadata": {},
   "outputs": [],
   "source": [
    "meses = [jan17, fev17, mar17, abr17, mai17, jun17, jul17, ago17, set17, out17, nov17, dez17, jan18, fev18, mar18, abr18, mai18, jun18, jul18, ago18, set18, out18, nov18, dez18, jan19, fev19, mar19, abr19, mai19, jun19, jul19, ago19, set19\n",
    ",out19]"
   ]
  },
  {
   "cell_type": "markdown",
   "metadata": {},
   "source": [
    "### WebScraper Selenium"
   ]
  },
  {
   "cell_type": "code",
   "execution_count": null,
   "metadata": {},
   "outputs": [],
   "source": [
    "\n",
    "\n",
    "#Web Driver\n",
    "\n",
    "driver = webdriver.Chrome()\n",
    "\n",
    "#going to the website\n",
    "\n",
    "for k,j in meses:\n",
    "    for i in range(1, 41):\n",
    "        url = \"https://g1.globo.com/busca/?q=protestos&order=recent&page=\" + str(i) + '&from=' + k +'T00%3A00%3A00-0400' + '&to='+ j + 'T23%3A59%3A59-0400'\n",
    "        print(url)\n",
    "\n",
    "        driver.get(url)\n",
    "\n",
    "        titulo = driver.find_elements_by_xpath('//div[@class=\"widget--info__title product-color \"]')\n",
    "        descri = driver.find_elements_by_xpath('//p[@class=\"widget--info__description\"]')\n",
    "        dia = driver.find_elements_by_xpath('//div[@class=\"widget--info__meta\"]')\n",
    "\n",
    "        num_page_items = len(titulo)\n",
    "        with open('project2.csv', 'a') as f:\n",
    "            for i in range(num_page_items):\n",
    "                f.write(titulo[i].text + \";\" + descri[i].text + \";\" + dia[i].text + \"\\n\")\n",
    "\n",
    "\n",
    "#close drive when its complete\n",
    "driver.close()\n",
    "\n"
   ]
  },
  {
   "cell_type": "code",
   "execution_count": null,
   "metadata": {},
   "outputs": [],
   "source": []
  },
  {
   "cell_type": "code",
   "execution_count": null,
   "metadata": {},
   "outputs": [],
   "source": []
  }
 ],
 "metadata": {
  "kernelspec": {
   "display_name": "Python 3",
   "language": "python",
   "name": "python3"
  },
  "language_info": {
   "codemirror_mode": {
    "name": "ipython",
    "version": 3
   },
   "file_extension": ".py",
   "mimetype": "text/x-python",
   "name": "python",
   "nbconvert_exporter": "python",
   "pygments_lexer": "ipython3",
   "version": "3.7.4"
  }
 },
 "nbformat": 4,
 "nbformat_minor": 2
}
