{
 "cells": [
  {
   "cell_type": "markdown",
   "metadata": {},
   "source": [
    "# Selenium Webscraper - G1 - Smaller version"
   ]
  },
  {
   "cell_type": "markdown",
   "metadata": {},
   "source": [
    "This project aims to build a webscraper.\n",
    "The website chosen was G1, the most famous jornalism group in Brazil. \n",
    "This tool aims to create a database of all news posted related to certain topic, filtered by months.\n",
    "The final output is a CSV file containing the title of the news, the description and the posted date.\n",
    "\n",
    "The topic chosen to build the visualization and the webscrapper was \"Protests\" around the world."
   ]
  },
  {
   "cell_type": "markdown",
   "metadata": {},
   "source": [
    "### Libraries"
   ]
  },
  {
   "cell_type": "code",
   "execution_count": null,
   "metadata": {},
   "outputs": [],
   "source": [
    "!pip install selenium"
   ]
  },
  {
   "cell_type": "code",
   "execution_count": null,
   "metadata": {},
   "outputs": [],
   "source": [
    "import csv\n",
    "from selenium import webdriver"
   ]
  },
  {
   "cell_type": "markdown",
   "metadata": {},
   "source": [
    "### Creating CSV file"
   ]
  },
  {
   "cell_type": "code",
   "execution_count": null,
   "metadata": {},
   "outputs": [],
   "source": [
    "with open('project2small.csv', 'w') as f:\n",
    "    f.write(\"Titulo;Descri;Dia \\n\")"
   ]
  },
  {
   "cell_type": "markdown",
   "metadata": {},
   "source": [
    "### Selecting months to go through\n",
    "January of 2017, 2018 and 2019"
   ]
  },
  {
   "cell_type": "code",
   "execution_count": null,
   "metadata": {},
   "outputs": [],
   "source": [
    "jan17 = ['2017-01-01','2017-01-31']\n",
    "jan18 = ['2018-01-01','2018-01-31']\n",
    "jan19 = ['2019-01-01','2019-01-31']"
   ]
  },
  {
   "cell_type": "markdown",
   "metadata": {},
   "source": [
    "### Consolidating months"
   ]
  },
  {
   "cell_type": "code",
   "execution_count": null,
   "metadata": {},
   "outputs": [],
   "source": [
    "meses = [jan17, jan18, jan19]"
   ]
  },
  {
   "cell_type": "markdown",
   "metadata": {},
   "source": [
    "### WebScraper Selenium"
   ]
  },
  {
   "cell_type": "code",
   "execution_count": null,
   "metadata": {},
   "outputs": [],
   "source": [
    "\n",
    "\n",
    "#Web Driver\n",
    "\n",
    "driver = webdriver.Chrome()\n",
    "\n",
    "#going to the website\n",
    "\n",
    "for k,j in meses:\n",
    "    for i in range(1, 4):\n",
    "        url = \"https://g1.globo.com/busca/?q=protestos&order=recent&page=\" + str(i) + '&from=' + k +'T00%3A00%3A00-0400' + '&to='+ j + 'T23%3A59%3A59-0400'\n",
    "        print(url)\n",
    "\n",
    "        driver.get(url)\n",
    "\n",
    "        titulo = driver.find_elements_by_xpath('//div[@class=\"widget--info__title product-color \"]')\n",
    "        descri = driver.find_elements_by_xpath('//p[@class=\"widget--info__description\"]')\n",
    "        dia = driver.find_elements_by_xpath('//div[@class=\"widget--info__meta\"]')\n",
    "\n",
    "        num_page_items = len(titulo)\n",
    "        with open('project2small.csv', 'a') as f:\n",
    "            for i in range(num_page_items):\n",
    "                f.write(titulo[i].text + \";\" + descri[i].text + \";\" + dia[i].text + \"\\n\")\n",
    "\n",
    "\n",
    "#close drive when its complete\n",
    "driver.close()\n",
    "\n"
   ]
  },
  {
   "cell_type": "code",
   "execution_count": null,
   "metadata": {},
   "outputs": [],
   "source": []
  },
  {
   "cell_type": "code",
   "execution_count": null,
   "metadata": {},
   "outputs": [],
   "source": []
  }
 ],
 "metadata": {
  "kernelspec": {
   "display_name": "Python 3",
   "language": "python",
   "name": "python3"
  },
  "language_info": {
   "codemirror_mode": {
    "name": "ipython",
    "version": 3
   },
   "file_extension": ".py",
   "mimetype": "text/x-python",
   "name": "python",
   "nbconvert_exporter": "python",
   "pygments_lexer": "ipython3",
   "version": "3.7.4"
  }
 },
 "nbformat": 4,
 "nbformat_minor": 2
}
