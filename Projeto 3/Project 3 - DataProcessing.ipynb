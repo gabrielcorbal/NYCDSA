{
 "cells": [
  {
   "cell_type": "markdown",
   "metadata": {},
   "source": [
    "# DataProcessing Notebook - AAAG"
   ]
  },
  {
   "cell_type": "code",
   "execution_count": 1,
   "metadata": {},
   "outputs": [],
   "source": [
    "# Basics Importation \n",
    "import numpy as np\n",
    "import pandas as pd\n",
    "import matplotlib.pyplot as plt\n",
    "import seaborn as sns\n",
    "%matplotlib inline\n",
    "plt.style.use('ggplot')\n",
    "\n",
    "# For Detailed Stats Output\n",
    "import statsmodels.api as sm\n",
    "# The linear regression models \n",
    "from sklearn.linear_model import LinearRegression, Ridge, Lasso, ElasticNet, LassoCV, ElasticNetCV\n",
    "# Making it so that we can see all columns of the dataframe\n",
    "pd.set_option('display.max_columns', None)\n",
    "\n",
    "# Import data\n",
    "df_train=pd.read_csv('df_train_area_bath_clean.csv',index_col='Id')\n",
    "df_test=pd.read_csv('df_test_area_bath_clean.csv',index_col='Id')\n",
    "df_total=pd.read_csv('df_total_area_bath_clean.csv',index_col='Id')"
   ]
  },
  {
   "cell_type": "code",
   "execution_count": 2,
   "metadata": {},
   "outputs": [],
   "source": [
    "nominal_var_processed=['MSZoning','Street','Alley','LotShape','LandContour','LotConfig','LandSlope',\\\n",
    "             'Neighborhood','Condition1','Condition2','BldgType','HouseStyle','RoofStyle','RoofMatl',\\\n",
    "             'Exterior1st','Exterior2nd','MasVnrType','Foundation',\\\n",
    "             'BsmtFinType1','Heating','CentralAir',\\\n",
    "             'Electrical','Functional','GarageType','GarageFinish',\\\n",
    "             'PavedDrive','Fence','MiscFeature','SaleType','SaleCondition','MSSubClass',\\\n",
    "             'WoodDeckSF','OpenPorchSF','EnclosedPorch','3SsnPorch','ScreenPorch','PoolArea','MoSold']\n",
    "ordinal_var_processed=['OverallQual','OverallCond','BedroomAbvGr','TotRmsAbvGrd','Fireplaces','GarageCars',\\\n",
    "             'YrSold','HeatingQC','KitchenQual','ExterQual','ExterCond','BsmtQual',\\\n",
    "             'BsmtCond','BsmtExposure','FireplaceQu','GarageQual','GarageCond','TotalBaths']\n",
    "cont_var_processed=['LotFrontage','LotArea','YearBuilt','YearRemodAdd','MasVnrArea',\\\n",
    "          'GrLivArea','GarageYrBlt','GarageArea','TotalSF']\n",
    "cont_var_for_tuning=ordinal_var_processed+cont_var_processed"
   ]
  },
  {
   "cell_type": "code",
   "execution_count": 3,
   "metadata": {},
   "outputs": [],
   "source": [
    "def missingValuesInfo(df):\n",
    "    total = df.isnull().sum().sort_values(ascending = False)\n",
    "    percent = round(df.isnull().sum().sort_values(ascending = False)/len(df)*100, 2)\n",
    "    temp = pd.concat([total, percent], axis = 1,keys= ['Total', 'Percent'])\n",
    "    return temp.loc[(temp['Total'] > 0)]"
   ]
  },
  {
   "cell_type": "code",
   "execution_count": 4,
   "metadata": {},
   "outputs": [],
   "source": [
    "def feature_standardize(data,scaleType='standardize'):\n",
    "    '''\n",
    "    - Accepts a dataframe column\n",
    "    '''\n",
    "    if scaleType not in ['standardize', 'normalize']: \n",
    "        raise ValueError('%s is not a valid choice' %(scaleType))\n",
    "    mean_value=np.mean(data)\n",
    "    standard_dev=np.std(data)\n",
    "    min_value=np.min(data)\n",
    "    max_value=np.max(data)\n",
    "    if scaleType == 'standardize':\n",
    "        return((data-mean_value)/standard_dev) \n",
    "    elif scaleType == 'normalize':\n",
    "        return((data-min_value)/(max_value-min_value))"
   ]
  },
  {
   "cell_type": "code",
   "execution_count": 5,
   "metadata": {},
   "outputs": [],
   "source": [
    "def dummify_column(dataframe,column_name):\n",
    "    '''\n",
    "    ### NOTE!!! ### vector operation not working yet!!!! ###\n",
    "    - dataframe takes the entire dataframe you are working on\n",
    "    - column_name takes a list of strings, where the strings are the column names\n",
    "    '''\n",
    "    for feature in column_name:\n",
    "        dummified_feature = pd.get_dummies(dataframe.loc[:,feature], prefix=feature, prefix_sep='__',drop_first=True)\n",
    "        dummified_df = pd.concat([dataframe.drop(feature,axis=1),dummified_feature],axis=1,sort='False')\n",
    "    return dummified_df"
   ]
  },
  {
   "cell_type": "code",
   "execution_count": 6,
   "metadata": {},
   "outputs": [],
   "source": [
    "def delete_outliers(dataframe,column_name,threshold=5):\n",
    "    '''\n",
    "    - Accepts a full dataframe\n",
    "    - Specify column_name to indicate which columns to check for outliers\n",
    "    - Column name accepts list of strings, where the strings are the column names\n",
    "    - threshold is the number of deviations that will be used for removing outliers\n",
    "    '''\n",
    "    for feature in column_name:\n",
    "        standard_dev=np.std(dataframe.loc[:,feature])\n",
    "        dataframe=dataframe.drop(dataframe[dataframe.loc[:,feature]>standard_dev*threshold].index,axis=0)\n",
    "    return dataframe\n"
   ]
  },
  {
   "cell_type": "code",
   "execution_count": 7,
   "metadata": {},
   "outputs": [
    {
     "name": "stdout",
     "output_type": "stream",
     "text": [
      "True\n",
      "True\n",
      "True\n"
     ]
    }
   ],
   "source": [
    "# Check to see if nominal_var is contained in df\n",
    "nominal_var_processed=['MSZoning','Street','Alley','LotShape','LandContour','LotConfig','LandSlope',\\\n",
    "             'Neighborhood','Condition1','Condition2','BldgType','HouseStyle','RoofStyle','RoofMatl',\\\n",
    "             'Exterior1st','Exterior2nd','MasVnrType','Foundation',\\\n",
    "             'BsmtFinType1','Heating','CentralAir',\\\n",
    "             'Electrical','Functional','GarageType','GarageFinish',\\\n",
    "             'PavedDrive','Fence','MiscFeature','SaleType','SaleCondition','MSSubClass',\\\n",
    "             'WoodDeckSF','OpenPorchSF','EnclosedPorch','3SsnPorch','ScreenPorch','PoolArea','MoSold']\n",
    "\n",
    "######## check for df_train ############################\n",
    "i=0\n",
    "for feature in nominal_var_processed:\n",
    "    if not df_train.loc[:,feature].empty:\n",
    "        i+=1\n",
    "print(np.array(nominal_var_processed).size==i)\n",
    "\n",
    "######## check for df_test ############################\n",
    "i=0\n",
    "for feature in nominal_var_processed:\n",
    "    if not df_test.loc[:,feature].empty:\n",
    "        i+=1\n",
    "print(np.array(nominal_var_processed).size==i)\n",
    "\n",
    "######## check for df_total ############################\n",
    "i=0\n",
    "for feature in nominal_var_processed:\n",
    "    if not df_total.loc[:,feature].empty:\n",
    "        i+=1\n",
    "print(np.array(nominal_var_processed).size==i)"
   ]
  },
  {
   "cell_type": "code",
   "execution_count": 8,
   "metadata": {
    "scrolled": false
   },
   "outputs": [
    {
     "name": "stdout",
     "output_type": "stream",
     "text": [
      "(1457, 229)\n",
      "(1459, 218)\n",
      "(2913, 230)\n",
      "(1457, 67)\n",
      "(1459, 66)\n",
      "(2913, 67)\n",
      "0\n",
      "0\n",
      "1456\n",
      "1459 nan for df_total because of SalePrice absence\n",
      "0\n",
      "0\n",
      "1456\n",
      "1459 nan for df_total because of SalePrice absence\n"
     ]
    }
   ],
   "source": [
    "# dummify the nominal categorical columns in df_train ############################\n",
    "df_train_copy=df_train.copy()\n",
    "for feature in nominal_var_processed:\n",
    "    df_train_copy=dummify_column(df_train_copy,[feature])\n",
    "dummified_df_train=df_train_copy\n",
    "\n",
    "# dummify the nominal categorical columns in df_test ############################\n",
    "df_test_copy=df_test.copy()\n",
    "for feature in nominal_var_processed:\n",
    "    df_test_copy=dummify_column(df_test_copy,[feature])\n",
    "dummified_df_test=df_test_copy\n",
    "\n",
    "# dummify the nominal categorical columns in df_total ############################\n",
    "df_total_copy=df_total.copy()\n",
    "for feature in nominal_var_processed:\n",
    "    df_total_copy=dummify_column(df_total_copy,[feature])\n",
    "dummified_df_total=df_total_copy\n",
    "\n",
    "# Creating an undummified dataframe for reference, for df_train ##################\n",
    "undummified_df_train=df_train.copy()\n",
    "\n",
    "# Creating an undummified dataframe for reference, for df_test ##################\n",
    "undummified_df_test=df_test.copy()\n",
    "\n",
    "# Creating an undummified dataframe for reference, for df_total ##################\n",
    "undummified_df_total=df_total.copy()\n",
    "\n",
    "print(dummified_df_train.shape)\n",
    "print(dummified_df_test.shape)\n",
    "print(dummified_df_total.shape)\n",
    "\n",
    "print(undummified_df_train.shape)\n",
    "print(undummified_df_test.shape)\n",
    "print(undummified_df_total.shape)\n",
    "\n",
    "print(dummified_df_train.isnull().sum().sum())\n",
    "print(dummified_df_test.isnull().sum().sum())\n",
    "print(dummified_df_total.isnull().sum().sum())\n",
    "print('1459 nan for df_total because of SalePrice absence')\n",
    "\n",
    "print(undummified_df_train.isnull().sum().sum())\n",
    "print(undummified_df_test.isnull().sum().sum())\n",
    "print(undummified_df_total.isnull().sum().sum())\n",
    "print('1459 nan for df_total because of SalePrice absence')"
   ]
  },
  {
   "cell_type": "code",
   "execution_count": 9,
   "metadata": {},
   "outputs": [],
   "source": [
    "# Creating dataframes with no outlier taken out\n",
    "# This is for maintaining integrity of df_test\n",
    "with_outlier_dummified_df_train=dummified_df_train.copy()\n",
    "with_outlier_dummified_df_test=dummified_df_test.copy()\n",
    "with_outlier_dummified_df_total=dummified_df_total.copy()\n",
    "with_outlier_undummified_df_train=undummified_df_train.copy()\n",
    "with_outlier_undummified_df_test=undummified_df_test.copy()\n",
    "with_outlier_undummified_df_total=undummified_df_total.copy()"
   ]
  },
  {
   "cell_type": "code",
   "execution_count": 10,
   "metadata": {
    "scrolled": false
   },
   "outputs": [],
   "source": [
    "standardized_with_outlier_dummified_df_train=with_outlier_dummified_df_train.copy()\n",
    "standardized_with_outlier_dummified_df_train[cont_var_for_tuning]=standardized_with_outlier_dummified_df_train[cont_var_for_tuning].apply(lambda x:feature_standardize(x,scaleType='standardize'),axis=0)\n",
    "standardized_with_outlier_dummified_df_total=with_outlier_dummified_df_total.copy()\n",
    "standardized_with_outlier_dummified_df_total[cont_var_for_tuning]=standardized_with_outlier_dummified_df_total[cont_var_for_tuning].apply(lambda x:feature_standardize(x,scaleType='standardize'),axis=0)\n",
    "standardized_with_outlier_dummified_df_test=with_outlier_dummified_df_test.copy()\n",
    "standardized_with_outlier_dummified_df_test[cont_var_for_tuning]=standardized_with_outlier_dummified_df_test[cont_var_for_tuning].apply(lambda x:feature_standardize(x,scaleType='standardize'),axis=0)\n",
    "\n",
    "##########################################\n",
    "# Undummified versions for categorical grouping\n",
    "##########################################\n",
    "\n",
    "standardized_with_outlier_undummified_df_train=with_outlier_undummified_df_train.copy()\n",
    "standardized_with_outlier_undummified_df_train[cont_var_for_tuning]=standardized_with_outlier_undummified_df_train[cont_var_for_tuning].apply(lambda x:feature_standardize(x,scaleType='standardize'),axis=0)\n",
    "standardized_with_outlier_undummified_df_total=with_outlier_undummified_df_total.copy()\n",
    "standardized_with_outlier_undummified_df_total[cont_var_for_tuning]=standardized_with_outlier_undummified_df_total[cont_var_for_tuning].apply(lambda x:feature_standardize(x,scaleType='standardize'),axis=0)\n",
    "standardized_with_outlier_undummified_df_test=with_outlier_undummified_df_test.copy()\n",
    "standardized_with_outlier_undummified_df_test[cont_var_for_tuning]=standardized_with_outlier_undummified_df_test[cont_var_for_tuning].apply(lambda x:feature_standardize(x,scaleType='standardize'),axis=0)\n"
   ]
  },
  {
   "cell_type": "code",
   "execution_count": 11,
   "metadata": {},
   "outputs": [],
   "source": [
    "intersection_total_train=set(standardized_with_outlier_dummified_df_total.columns)&set(standardized_with_outlier_dummified_df_test.columns)\n",
    "intersection_cols=set(standardized_with_outlier_dummified_df_train.columns)&intersection_total_train\n",
    "intersection_cols_with_Sales=list(intersection_cols)+['SalePrice']\n",
    "# standardized_with_outlier_dummified_df_total[intersection_cols_with_Sales]"
   ]
  },
  {
   "cell_type": "code",
   "execution_count": 12,
   "metadata": {},
   "outputs": [
    {
     "name": "stderr",
     "output_type": "stream",
     "text": [
      "C:\\ProgramData\\Anaconda3\\lib\\site-packages\\pandas\\core\\indexing.py:1418: FutureWarning: \n",
      "Passing list-likes to .loc or [] with any missing label will raise\n",
      "KeyError in the future, you can use .reindex() as an alternative.\n",
      "\n",
      "See the documentation here:\n",
      "https://pandas.pydata.org/pandas-docs/stable/user_guide/indexing.html#deprecate-loc-reindex-listlike\n",
      "  return self._getitem_tuple(key)\n"
     ]
    }
   ],
   "source": [
    "standardized_with_outlier_dummified_df_total.loc[:,intersection_cols_with_Sales].to_csv('standardized_dummified_df_total_area_bath_clean.csv')\n",
    "standardized_with_outlier_dummified_df_test.loc[:,intersection_cols].to_csv('standardized_dummified_df_test_area_bath_clean.csv')\n",
    "standardized_with_outlier_dummified_df_train.loc[:,intersection_cols_with_Sales].to_csv('standardized_dummified_df_train_area_bath_clean.csv')\n",
    "\n",
    "standardized_with_outlier_undummified_df_total.loc[:,intersection_cols_with_Sales].to_csv('standardized_undummified_df_total_area_bath_clean.csv')\n",
    "standardized_with_outlier_undummified_df_test.loc[:,intersection_cols].to_csv('standardized_undummified_df_test_area_bath_clean.csv')\n",
    "standardized_with_outlier_undummified_df_train.loc[:,intersection_cols_with_Sales].to_csv('standardized_undummified_df_train_area_bath_clean.csv')"
   ]
  },
  {
   "cell_type": "code",
   "execution_count": 13,
   "metadata": {},
   "outputs": [
    {
     "data": {
      "text/plain": [
       "(2913, 230)"
      ]
     },
     "execution_count": 13,
     "metadata": {},
     "output_type": "execute_result"
    }
   ],
   "source": [
    "standardized_with_outlier_dummified_df_total.shape"
   ]
  },
  {
   "cell_type": "code",
   "execution_count": null,
   "metadata": {},
   "outputs": [],
   "source": []
  }
 ],
 "metadata": {
  "kernelspec": {
   "display_name": "Python 3",
   "language": "python",
   "name": "python3"
  },
  "language_info": {
   "codemirror_mode": {
    "name": "ipython",
    "version": 3
   },
   "file_extension": ".py",
   "mimetype": "text/x-python",
   "name": "python",
   "nbconvert_exporter": "python",
   "pygments_lexer": "ipython3",
   "version": "3.7.4"
  }
 },
 "nbformat": 4,
 "nbformat_minor": 2
}
