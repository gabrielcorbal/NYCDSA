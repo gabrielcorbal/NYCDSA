{
 "cells": [
  {
   "cell_type": "markdown",
   "metadata": {},
   "source": [
    "# Importing"
   ]
  },
  {
   "cell_type": "code",
   "execution_count": 1,
   "metadata": {},
   "outputs": [],
   "source": [
    "# Basics Importation \n",
    "import pandas as pd\n",
    "import seaborn as sns\n",
    "import matplotlib.pyplot as plt\n",
    "import pandas_profiling\n",
    "import numpy as np\n",
    "import re\n",
    "import seaborn as sns\n",
    "from scipy import stats\n",
    "from scipy.stats import pearsonr\n",
    "%matplotlib inline\n",
    "plt.style.use('ggplot')\n",
    "\n",
    "# Making it so that we can see all columns of the dataframe\n",
    "pd.set_option('display.max_columns', None)\n",
    "\n",
    "# Import data\n",
    "df_train=pd.read_csv('df_train_cleaned.csv',index_col='Id')\n",
    "df_test=pd.read_csv('df_test_cleaned.csv',index_col='Id')\n",
    "df_total=pd.read_csv('df_total_cleaned.csv',index_col='Id')\n",
    "df = df_train"
   ]
  },
  {
   "cell_type": "markdown",
   "metadata": {},
   "source": [
    "# FIRST DATAFRAME MUTATION ------------------------------------------------"
   ]
  },
  {
   "cell_type": "markdown",
   "metadata": {},
   "source": [
    "# Total Square Foot"
   ]
  },
  {
   "cell_type": "code",
   "execution_count": 2,
   "metadata": {},
   "outputs": [
    {
     "name": "stdout",
     "output_type": "stream",
     "text": [
      "1stFlrSF :Pearsons correlation: 0.620\n",
      "2ndFlrSF :Pearsons correlation: 0.321\n",
      "TotalBsmtSF :Pearsons correlation: 0.647\n"
     ]
    }
   ],
   "source": [
    "totalsf = ['1stFlrSF','2ndFlrSF','TotalBsmtSF']\n",
    "for var in totalsf:\n",
    "    corr, _ = pearsonr(df_train[var], df_train['SalePrice'])\n",
    "    print(var,':Pearsons correlation: %.3f' % corr)"
   ]
  },
  {
   "cell_type": "code",
   "execution_count": 3,
   "metadata": {},
   "outputs": [],
   "source": [
    "df_train['TotalSF'] = df_train['1stFlrSF'] + df_train['2ndFlrSF'] + df_train['TotalBsmtSF']\n",
    "df_test['TotalSF'] = df_test['1stFlrSF'] + df_test['2ndFlrSF'] + df_test['TotalBsmtSF']\n",
    "df_total['TotalSF'] = df_total['1stFlrSF'] + df_total['2ndFlrSF'] + df_total['TotalBsmtSF']"
   ]
  },
  {
   "cell_type": "code",
   "execution_count": 4,
   "metadata": {
    "scrolled": true
   },
   "outputs": [
    {
     "name": "stdout",
     "output_type": "stream",
     "text": [
      "Pearsons correlation: 0.825\n"
     ]
    }
   ],
   "source": [
    "corr, _ = pearsonr(df_train['TotalSF'], df_train['SalePrice'])\n",
    "print('Pearsons correlation: %.3f' % corr)"
   ]
  },
  {
   "cell_type": "markdown",
   "metadata": {},
   "source": [
    "# Total Bathroom"
   ]
  },
  {
   "cell_type": "code",
   "execution_count": 5,
   "metadata": {},
   "outputs": [
    {
     "name": "stdout",
     "output_type": "stream",
     "text": [
      "FullBath :Pearsons correlation: 0.597\n",
      "HalfBath :Pearsons correlation: 0.315\n",
      "BsmtFullBath :Pearsons correlation: 0.236\n",
      "BsmtHalfBath :Pearsons correlation: -0.005\n"
     ]
    }
   ],
   "source": [
    "totalbt = ['FullBath','HalfBath','BsmtFullBath','BsmtHalfBath']\n",
    "for var in totalbt:\n",
    "    corr, _ = pearsonr(df_train[var], df_train['SalePrice'])\n",
    "    print(var,':Pearsons correlation: %.3f' % corr )"
   ]
  },
  {
   "cell_type": "code",
   "execution_count": 6,
   "metadata": {
    "scrolled": false
   },
   "outputs": [
    {
     "name": "stdout",
     "output_type": "stream",
     "text": [
      "Pearsons correlation: 0.677\n"
     ]
    }
   ],
   "source": [
    "df_train['TotalBaths'] = df_train['FullBath'] + (0.5 * df_train['HalfBath']) + df_train['BsmtFullBath'] + (0.5 * df_train['BsmtHalfBath'])\n",
    "df_test['TotalBaths'] = df_test['FullBath'] + (0.5 * df_test['HalfBath']) + df_test['BsmtFullBath'] + (0.5 * df_test['BsmtHalfBath'])\n",
    "df_total['TotalBaths'] = df_total['FullBath'] + (0.5 * df_total['HalfBath']) + df_total['BsmtFullBath'] + (0.5 * df_total['BsmtHalfBath'])\n",
    "\n",
    "corr, _ = pearsonr(df_train['TotalBaths'], df_train['SalePrice'])\n",
    "print('Pearsons correlation: %.3f' % corr)"
   ]
  },
  {
   "cell_type": "markdown",
   "metadata": {},
   "source": [
    "# Removing the Redundant Columns for FIRST MUTATION -------------------------------------------------"
   ]
  },
  {
   "cell_type": "code",
   "execution_count": 7,
   "metadata": {
    "scrolled": false
   },
   "outputs": [],
   "source": [
    "df_train = df_train.drop(['HalfBath', 'FullBath','BsmtFullBath','BsmtHalfBath', '1stFlrSF', '2ndFlrSF','TotalBsmtSF' ], axis = 1)\n",
    "df_test = df_test.drop(['HalfBath', 'FullBath','BsmtFullBath','BsmtHalfBath', '1stFlrSF', '2ndFlrSF','TotalBsmtSF' ], axis = 1)\n",
    "df_total = df_total.drop(['HalfBath', 'FullBath','BsmtFullBath','BsmtHalfBath', '1stFlrSF', '2ndFlrSF','TotalBsmtSF' ], axis = 1)\n",
    "\n",
    "df_train.to_csv('df_train_area_bath_clean.csv')\n",
    "df_test.to_csv('df_test_area_bath_clean.csv')\n",
    "df_total.to_csv('df_total_area_bath_clean.csv')"
   ]
  }
 ],
 "metadata": {
  "kernelspec": {
   "display_name": "Python 3",
   "language": "python",
   "name": "python3"
  },
  "language_info": {
   "codemirror_mode": {
    "name": "ipython",
    "version": 3
   },
   "file_extension": ".py",
   "mimetype": "text/x-python",
   "name": "python",
   "nbconvert_exporter": "python",
   "pygments_lexer": "ipython3",
   "version": "3.7.4"
  }
 },
 "nbformat": 4,
 "nbformat_minor": 2
}
